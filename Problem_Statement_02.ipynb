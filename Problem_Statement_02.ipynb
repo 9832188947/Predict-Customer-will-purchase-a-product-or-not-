{
 "cells": [
  {
   "cell_type": "code",
   "execution_count": 13,
   "id": "5168a1bf-76a4-4152-8fb2-2616953206d4",
   "metadata": {},
   "outputs": [
    {
     "name": "stdout",
     "output_type": "stream",
     "text": [
      "Model accuracy: 1.0\n"
     ]
    },
    {
     "name": "stdin",
     "output_type": "stream",
     "text": [
      "Enter customer age:  -5\n"
     ]
    },
    {
     "name": "stdout",
     "output_type": "stream",
     "text": [
      "Please enter a valid age (greater than 0).\n"
     ]
    },
    {
     "name": "stdin",
     "output_type": "stream",
     "text": [
      "Enter customer age:  5\n",
      "Enter time spent on the website:  -8\n"
     ]
    },
    {
     "name": "stdout",
     "output_type": "stream",
     "text": [
      "Please enter a valid time spent (0 or greater).\n"
     ]
    },
    {
     "name": "stdin",
     "output_type": "stream",
     "text": [
      "Enter time spent on the website:  89\n",
      "Enter 1 if added to cart, else enter 0:  5\n"
     ]
    },
    {
     "name": "stdout",
     "output_type": "stream",
     "text": [
      "Please enter 1 or 0.\n"
     ]
    },
    {
     "name": "stdin",
     "output_type": "stream",
     "text": [
      "Enter 1 if added to cart, else enter 0:  0\n"
     ]
    },
    {
     "name": "stdout",
     "output_type": "stream",
     "text": [
      "The Customer is likely to purchase\n"
     ]
    }
   ],
   "source": [
    "#Problem Statement\n",
    "'''\n",
    "In an e-comerce company, the management wants to predict whether a customer will purchase a high value product based on their age, time spent \n",
    "on the website, and wheather they have added items to their cart. The goal is to optimize marketing strategies by targeting potential customer \n",
    "more effectively, thereby increasing sales and revenue. \n",
    "'''\n",
    "\n",
    "import numpy as np\n",
    "import pandas as pd\n",
    "from sklearn.model_selection import train_test_split\n",
    "from sklearn.linear_model import LogisticRegression\n",
    "\n",
    "X = np.array([\n",
    "    [22, 15, 0],  # Young, short visit, didn't add to cart\n",
    "    [30, 50, 1],  # Mid-age, long visit, added to cart\n",
    "    [35, 25, 0],  # Mid-age, medium visit, didn't add to cart\n",
    "    [40, 55, 1],  # Older, long visit, added to cart\n",
    "    [25, 35, 0],  # Young, medium visit, didn't add to cart\n",
    "    [45, 60, 1],  # Older, long visit, added to cart\n",
    "    [28, 20, 0],  # Young, short visit, didn't add to cart\n",
    "    [50, 65, 1],  # Older, long visit, added to cart\n",
    "    [32, 30, 0],  # Mid-age, medium visit, didn't add to cart\n",
    "    [38, 45, 1]   # Mid-age, long visit, added to cart\n",
    "])\n",
    "\n",
    "# Target variable: 0 = Didn't purchase, 1 = Purchased\n",
    "y = np.array([0, 1, 0, 1, 0, 1, 0, 1, 0, 1])\n",
    "\n",
    "\n",
    "\n",
    "X_train, X_test, y_train, y_test = train_test_split(X, y, test_size=0.2, random_state=104)\n",
    "\n",
    "model = LogisticRegression()\n",
    "model.fit(X_train,y_train)\n",
    "\n",
    "accuracy = model.score(X_test, y_test)\n",
    "print(f\"Model accuracy: {accuracy}\")\n",
    "\n",
    "\n",
    "# user_age = float(input(\"Enter customer age: \"))\n",
    "# user_time_spent = float(input(\"Enter Time spent on Website: \"))\n",
    "# user_added_to_cart = int(input(\"Enter 1 if added to cart, else enter 0: \"))\n",
    "\n",
    "def get_valid_age():\n",
    "    while True:\n",
    "        try:\n",
    "            age = float(input(\"Enter customer age: \"))\n",
    "            if age > 0:\n",
    "                return age\n",
    "            else:\n",
    "                print(\"Please enter a valid age (greater than 0).\")\n",
    "        except ValueError:\n",
    "            print(\"Invalid input. Please enter a numeric value for age.\")\n",
    "\n",
    "# Input validation function for time spent\n",
    "def get_valid_time_spent():\n",
    "    while True:\n",
    "        try:\n",
    "            time_spent = float(input(\"Enter time spent on the website: \"))\n",
    "            if time_spent >= 0:\n",
    "                return time_spent\n",
    "            else:\n",
    "                print(\"Please enter a valid time spent (0 or greater).\")\n",
    "        except ValueError:\n",
    "            print(\"Invalid input. Please enter a numeric value for time spent.\")\n",
    "\n",
    "# Input validation function for added to cart\n",
    "def get_valid_added_to_cart():\n",
    "    while True:\n",
    "        try:\n",
    "            added_to_cart = int(input(\"Enter 1 if added to cart, else enter 0: \"))\n",
    "            if added_to_cart in [0, 1]:\n",
    "                return added_to_cart\n",
    "            else:\n",
    "                print(\"Please enter 1 or 0.\")\n",
    "        except ValueError:\n",
    "            print(\"Invalid input. Please enter 1 or 0.\")\n",
    "\n",
    "# Get valid inputs\n",
    "user_age = get_valid_age()\n",
    "user_time_spent = get_valid_time_spent()\n",
    "user_added_to_cart = get_valid_added_to_cart()\n",
    "\n",
    "user_data = np.array([[user_age,user_time_spent,user_added_to_cart]])\n",
    "\n",
    "prediction = model.predict(user_data)\n",
    "\n",
    "if prediction[0] == 1:\n",
    "    print(\"The Customer is likely to purchase\")\n",
    "else:\n",
    "    print(\"The Customer is unlikely to purchase\")\n",
    "                               "
   ]
  }
 ],
 "metadata": {
  "kernelspec": {
   "display_name": "Python 3 (ipykernel)",
   "language": "python",
   "name": "python3"
  },
  "language_info": {
   "codemirror_mode": {
    "name": "ipython",
    "version": 3
   },
   "file_extension": ".py",
   "mimetype": "text/x-python",
   "name": "python",
   "nbconvert_exporter": "python",
   "pygments_lexer": "ipython3",
   "version": "3.11.7"
  }
 },
 "nbformat": 4,
 "nbformat_minor": 5
}
